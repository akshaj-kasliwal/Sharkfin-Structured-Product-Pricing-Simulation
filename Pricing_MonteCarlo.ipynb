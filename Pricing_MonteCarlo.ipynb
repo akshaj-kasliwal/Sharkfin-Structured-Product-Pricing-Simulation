{
  "metadata": {
    "kernelspec": {
      "name": "python",
      "display_name": "Python (Pyodide)",
      "language": "python"
    },
    "language_info": {
      "codemirror_mode": {
        "name": "python",
        "version": 3
      },
      "file_extension": ".py",
      "mimetype": "text/x-python",
      "name": "python",
      "nbconvert_exporter": "python",
      "pygments_lexer": "ipython3",
      "version": "3.8"
    }
  },
  "nbformat_minor": 5,
  "nbformat": 4,
  "cells": [
    {
      "id": "31d41570-5621-439a-ad5a-3b7ee5cf9314",
      "cell_type": "code",
      "source": "# Re-run the Monte Carlo pricing model after execution state reset\n\nimport numpy as np\n\n# Simulation parameters\nn_simulations = 100000  # Number of Monte Carlo paths\nT = 2  # Time to maturity in years\ndt = 1 / 252  # Daily time step (assuming 252 trading days in a year)\nn_steps = int(T / dt)  # Total steps in simulation\n\n# Product parameters\nS0 = 100  # Initial stock price\nstrike = 100  # Strike price (same as initial price)\nKO_level = 150  # Knock-Out at 150% of S0\nKI_level = 70  # Knock-In at 70% of S0\nparticipation = 0.60  # 60% exposure to stock upside\ncap = 29.99 / 100  # 29.99% max return\nKO_return = 5.1 / 100  # Fixed return if KO is hit\nloss_factor = 0.80  # 80% loss sharing if KI is breached\n\n# Market parameters\nr = 0.04  # Risk-free rate (4% annual)\nsigma = 0.25  # Volatility (25% annual)\n\n# Simulate stock price paths using Geometric Brownian Motion (GBM)\nnp.random.seed(42)  # For reproducibility\nZ = np.random.randn(n_simulations, n_steps)  # Standard normal variates\nS = np.zeros((n_simulations, n_steps))  # Stock price paths\nS[:, 0] = S0  # Initial stock price\n\n# Generate price paths\nfor t in range(1, n_steps):\n    S[:, t] = S[:, t - 1] * np.exp((r - 0.5 * sigma**2) * dt + sigma * np.sqrt(dt) * Z[:, t - 1])\n\n# Final stock prices\nS_T = S[:, -1]\n\n# Knock-Out check: Any path that hit KO at any point gets 5.1% return\nKO_hit = (S >= KO_level).any(axis=1)\npayout_KO = KO_hit * (KO_return * S0)\n\n# Knock-In check: Any path that fell below KI at any point shares in losses\nKI_hit = (S <= KI_level).any(axis=1)\n\n# Standard Sharkfin payoff\npayout = participation * (S_T - S0)  # 60% of the stock's gain\npayout = np.minimum(payout, cap * S0)  # Apply cap\npayout = np.maximum(payout, 0)  # No negative payouts\n\n# Apply KI Loss Factor if breached\npayout_KI = KI_hit * (-loss_factor * (S_T - S0))\npayout_KI[~KI_hit] = 0  # If KI was not hit, no loss applied\n\n# Final payout (taking KO & KI into account)\nfinal_payout = np.where(KO_hit, payout_KO, payout + payout_KI)\n\n# Discount to present value\ndiscounted_payout = np.exp(-r * T) * final_payout\nsharkfin_price = np.mean(discounted_payout)\n\nprint(sharkfin_price)\n",
      "metadata": {
        "trusted": true
      },
      "outputs": [
        {
          "name": "stdout",
          "output_type": "stream",
          "text": "9.718494758303564\n"
        }
      ],
      "execution_count": 8
    },
    {
      "id": "4915918d-611f-4589-95be-f53c98abe803",
      "cell_type": "code",
      "source": "",
      "metadata": {
        "trusted": true
      },
      "outputs": [],
      "execution_count": null
    }
  ]
}